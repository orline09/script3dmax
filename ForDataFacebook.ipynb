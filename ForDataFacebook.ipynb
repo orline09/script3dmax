{
  "cells": [
    {
      "metadata": {
        "_uuid": "8f2839f25d086af736a60e9eeb907d3b93b6e0e5",
        "_cell_guid": "b1076dfc-b9ad-4769-8c92-a6c4dae69d19",
        "trusted": true
      },
      "cell_type": "code",
      "source": "#Проанализировать массив данных при помощи языка Python (допускается и рекомендуется использование дополнительных библиотек): \n #   вычисление среднего, максимального/минимального значений, медианы, моды числовых значений как для всего массива в целом, так и для каждого типа \n  #  контента (столбец Type) в отдельности. Найти самый популярный объект в выборке, объяснить почему. Решение предоставить в виде .py/.ipynb файла на github. \n\nimport numpy as np # linear algebra\nimport pandas as pd # data processing, CSV file I/O (e.g. pd.read_csv)\n\n# Input data files are available in the \"../input/\" directory.\n# For example, running this (by clicking run or pressing Shift+Enter) will list the files in the input directory\n\nimport os\nprint(os.listdir(\"../input\"))\n\n# Any results you write to the current directory are saved as output.",
      "execution_count": 64,
      "outputs": [
        {
          "output_type": "stream",
          "text": "['dataset_Facebook.csv']\n",
          "name": "stdout"
        }
      ]
    },
    {
      "metadata": {
        "_cell_guid": "79c7e3d0-c299-4dcb-8224-4455121ee9b0",
        "_uuid": "d629ff2d2480ee46fbb7e2d37f6b5fab8052498a",
        "trusted": true
      },
      "cell_type": "code",
      "source": "#input data\ndf = pd.read_csv(os.path.join('../input', 'dataset_Facebook.csv'), sep = ';')\ndf.shape",
      "execution_count": 12,
      "outputs": [
        {
          "output_type": "execute_result",
          "execution_count": 12,
          "data": {
            "text/plain": "(500, 19)"
          },
          "metadata": {}
        }
      ]
    },
    {
      "metadata": {
        "trusted": true,
        "_uuid": "0fbfe46d5ba4bf1fe1dc88555902d417bcdf0c87"
      },
      "cell_type": "code",
      "source": "#посмотрим на данные\ndf.head(10)",
      "execution_count": 46,
      "outputs": [
        {
          "output_type": "execute_result",
          "execution_count": 46,
          "data": {
            "text/plain": "   Page total likes    Type         ...          share  Total Interactions\n0            139441   Photo         ...           17.0                 100\n1            139441  Status         ...           29.0                 164\n2            139441   Photo         ...           14.0                  80\n3            139441   Photo         ...          147.0                1777\n4            139441   Photo         ...           49.0                 393\n5            139441  Status         ...           33.0                 186\n6            139441   Photo         ...           27.0                 279\n7            139441   Photo         ...           14.0                 339\n8            139441  Status         ...           31.0                 192\n9            139441   Photo         ...           26.0                 142\n\n[10 rows x 19 columns]",
            "text/html": "<div>\n<style scoped>\n    .dataframe tbody tr th:only-of-type {\n        vertical-align: middle;\n    }\n\n    .dataframe tbody tr th {\n        vertical-align: top;\n    }\n\n    .dataframe thead th {\n        text-align: right;\n    }\n</style>\n<table border=\"1\" class=\"dataframe\">\n  <thead>\n    <tr style=\"text-align: right;\">\n      <th></th>\n      <th>Page total likes</th>\n      <th>Type</th>\n      <th>Category</th>\n      <th>Post Month</th>\n      <th>Post Weekday</th>\n      <th>Post Hour</th>\n      <th>Paid</th>\n      <th>Lifetime Post Total Reach</th>\n      <th>Lifetime Post Total Impressions</th>\n      <th>Lifetime Engaged Users</th>\n      <th>Lifetime Post Consumers</th>\n      <th>Lifetime Post Consumptions</th>\n      <th>Lifetime Post Impressions by people who have liked your Page</th>\n      <th>Lifetime Post reach by people who like your Page</th>\n      <th>Lifetime People who have liked your Page and engaged with your post</th>\n      <th>comment</th>\n      <th>like</th>\n      <th>share</th>\n      <th>Total Interactions</th>\n    </tr>\n  </thead>\n  <tbody>\n    <tr>\n      <th>0</th>\n      <td>139441</td>\n      <td>Photo</td>\n      <td>2</td>\n      <td>12</td>\n      <td>4</td>\n      <td>3</td>\n      <td>0.0</td>\n      <td>2752</td>\n      <td>5091</td>\n      <td>178</td>\n      <td>109</td>\n      <td>159</td>\n      <td>3078</td>\n      <td>1640</td>\n      <td>119</td>\n      <td>4</td>\n      <td>79.0</td>\n      <td>17.0</td>\n      <td>100</td>\n    </tr>\n    <tr>\n      <th>1</th>\n      <td>139441</td>\n      <td>Status</td>\n      <td>2</td>\n      <td>12</td>\n      <td>3</td>\n      <td>10</td>\n      <td>0.0</td>\n      <td>10460</td>\n      <td>19057</td>\n      <td>1457</td>\n      <td>1361</td>\n      <td>1674</td>\n      <td>11710</td>\n      <td>6112</td>\n      <td>1108</td>\n      <td>5</td>\n      <td>130.0</td>\n      <td>29.0</td>\n      <td>164</td>\n    </tr>\n    <tr>\n      <th>2</th>\n      <td>139441</td>\n      <td>Photo</td>\n      <td>3</td>\n      <td>12</td>\n      <td>3</td>\n      <td>3</td>\n      <td>0.0</td>\n      <td>2413</td>\n      <td>4373</td>\n      <td>177</td>\n      <td>113</td>\n      <td>154</td>\n      <td>2812</td>\n      <td>1503</td>\n      <td>132</td>\n      <td>0</td>\n      <td>66.0</td>\n      <td>14.0</td>\n      <td>80</td>\n    </tr>\n    <tr>\n      <th>3</th>\n      <td>139441</td>\n      <td>Photo</td>\n      <td>2</td>\n      <td>12</td>\n      <td>2</td>\n      <td>10</td>\n      <td>1.0</td>\n      <td>50128</td>\n      <td>87991</td>\n      <td>2211</td>\n      <td>790</td>\n      <td>1119</td>\n      <td>61027</td>\n      <td>32048</td>\n      <td>1386</td>\n      <td>58</td>\n      <td>1572.0</td>\n      <td>147.0</td>\n      <td>1777</td>\n    </tr>\n    <tr>\n      <th>4</th>\n      <td>139441</td>\n      <td>Photo</td>\n      <td>2</td>\n      <td>12</td>\n      <td>2</td>\n      <td>3</td>\n      <td>0.0</td>\n      <td>7244</td>\n      <td>13594</td>\n      <td>671</td>\n      <td>410</td>\n      <td>580</td>\n      <td>6228</td>\n      <td>3200</td>\n      <td>396</td>\n      <td>19</td>\n      <td>325.0</td>\n      <td>49.0</td>\n      <td>393</td>\n    </tr>\n    <tr>\n      <th>5</th>\n      <td>139441</td>\n      <td>Status</td>\n      <td>2</td>\n      <td>12</td>\n      <td>1</td>\n      <td>9</td>\n      <td>0.0</td>\n      <td>10472</td>\n      <td>20849</td>\n      <td>1191</td>\n      <td>1073</td>\n      <td>1389</td>\n      <td>16034</td>\n      <td>7852</td>\n      <td>1016</td>\n      <td>1</td>\n      <td>152.0</td>\n      <td>33.0</td>\n      <td>186</td>\n    </tr>\n    <tr>\n      <th>6</th>\n      <td>139441</td>\n      <td>Photo</td>\n      <td>3</td>\n      <td>12</td>\n      <td>1</td>\n      <td>3</td>\n      <td>1.0</td>\n      <td>11692</td>\n      <td>19479</td>\n      <td>481</td>\n      <td>265</td>\n      <td>364</td>\n      <td>15432</td>\n      <td>9328</td>\n      <td>379</td>\n      <td>3</td>\n      <td>249.0</td>\n      <td>27.0</td>\n      <td>279</td>\n    </tr>\n    <tr>\n      <th>7</th>\n      <td>139441</td>\n      <td>Photo</td>\n      <td>3</td>\n      <td>12</td>\n      <td>7</td>\n      <td>9</td>\n      <td>1.0</td>\n      <td>13720</td>\n      <td>24137</td>\n      <td>537</td>\n      <td>232</td>\n      <td>305</td>\n      <td>19728</td>\n      <td>11056</td>\n      <td>422</td>\n      <td>0</td>\n      <td>325.0</td>\n      <td>14.0</td>\n      <td>339</td>\n    </tr>\n    <tr>\n      <th>8</th>\n      <td>139441</td>\n      <td>Status</td>\n      <td>2</td>\n      <td>12</td>\n      <td>7</td>\n      <td>3</td>\n      <td>0.0</td>\n      <td>11844</td>\n      <td>22538</td>\n      <td>1530</td>\n      <td>1407</td>\n      <td>1692</td>\n      <td>15220</td>\n      <td>7912</td>\n      <td>1250</td>\n      <td>0</td>\n      <td>161.0</td>\n      <td>31.0</td>\n      <td>192</td>\n    </tr>\n    <tr>\n      <th>9</th>\n      <td>139441</td>\n      <td>Photo</td>\n      <td>3</td>\n      <td>12</td>\n      <td>6</td>\n      <td>10</td>\n      <td>0.0</td>\n      <td>4694</td>\n      <td>8668</td>\n      <td>280</td>\n      <td>183</td>\n      <td>250</td>\n      <td>4309</td>\n      <td>2324</td>\n      <td>199</td>\n      <td>3</td>\n      <td>113.0</td>\n      <td>26.0</td>\n      <td>142</td>\n    </tr>\n  </tbody>\n</table>\n</div>"
          },
          "metadata": {}
        }
      ]
    },
    {
      "metadata": {
        "trusted": true,
        "_uuid": "98ed61ec4dbc389c6a6b31db558797bb495a3e95"
      },
      "cell_type": "code",
      "source": "#define type fo each columns\ndf.dtypes",
      "execution_count": 20,
      "outputs": [
        {
          "output_type": "execute_result",
          "execution_count": 20,
          "data": {
            "text/plain": "Page total likes                                                         int64\nType                                                                    object\nCategory                                                                 int64\nPost Month                                                               int64\nPost Weekday                                                             int64\nPost Hour                                                                int64\nPaid                                                                   float64\nLifetime Post Total Reach                                                int64\nLifetime Post Total Impressions                                          int64\nLifetime Engaged Users                                                   int64\nLifetime Post Consumers                                                  int64\nLifetime Post Consumptions                                               int64\nLifetime Post Impressions by people who have liked your Page             int64\nLifetime Post reach by people who like your Page                         int64\nLifetime People who have liked your Page and engaged with your post      int64\ncomment                                                                  int64\nlike                                                                   float64\nshare                                                                  float64\nTotal Interactions                                                       int64\ndtype: object"
          },
          "metadata": {}
        }
      ]
    },
    {
      "metadata": {
        "trusted": true,
        "_uuid": "d5766a83339561afa9c50e5788330f7869565954"
      },
      "cell_type": "code",
      "source": "# define mean, max, min, 50% - mediana, (среднее, максимальное, минимальное, медиана)\ndf_all=df.describe()\ndf_all= df_all.drop(['count', 'std', '25%', '75%'], axis = 0) #исключим лишниe первый и третий квартили и число строк\ndf_all",
      "execution_count": 40,
      "outputs": [
        {
          "output_type": "execute_result",
          "execution_count": 40,
          "data": {
            "text/plain": "      Page total likes         ...          Total Interactions\nmean        123194.176         ...                      212.12\nmin          81370.000         ...                        0.00\n50%         129600.000         ...                      123.50\nmax         139441.000         ...                     6334.00\n\n[4 rows x 18 columns]",
            "text/html": "<div>\n<style scoped>\n    .dataframe tbody tr th:only-of-type {\n        vertical-align: middle;\n    }\n\n    .dataframe tbody tr th {\n        vertical-align: top;\n    }\n\n    .dataframe thead th {\n        text-align: right;\n    }\n</style>\n<table border=\"1\" class=\"dataframe\">\n  <thead>\n    <tr style=\"text-align: right;\">\n      <th></th>\n      <th>Page total likes</th>\n      <th>Category</th>\n      <th>Post Month</th>\n      <th>Post Weekday</th>\n      <th>Post Hour</th>\n      <th>Paid</th>\n      <th>Lifetime Post Total Reach</th>\n      <th>Lifetime Post Total Impressions</th>\n      <th>Lifetime Engaged Users</th>\n      <th>Lifetime Post Consumers</th>\n      <th>Lifetime Post Consumptions</th>\n      <th>Lifetime Post Impressions by people who have liked your Page</th>\n      <th>Lifetime Post reach by people who like your Page</th>\n      <th>Lifetime People who have liked your Page and engaged with your post</th>\n      <th>comment</th>\n      <th>like</th>\n      <th>share</th>\n      <th>Total Interactions</th>\n    </tr>\n  </thead>\n  <tbody>\n    <tr>\n      <th>mean</th>\n      <td>123194.176</td>\n      <td>1.88</td>\n      <td>7.038</td>\n      <td>4.15</td>\n      <td>7.84</td>\n      <td>0.278557</td>\n      <td>13903.36</td>\n      <td>29585.948</td>\n      <td>920.344</td>\n      <td>798.772</td>\n      <td>1415.13</td>\n      <td>16766.376</td>\n      <td>6585.488</td>\n      <td>609.986</td>\n      <td>7.482</td>\n      <td>177.945892</td>\n      <td>27.266129</td>\n      <td>212.12</td>\n    </tr>\n    <tr>\n      <th>min</th>\n      <td>81370.000</td>\n      <td>1.00</td>\n      <td>1.000</td>\n      <td>1.00</td>\n      <td>1.00</td>\n      <td>0.000000</td>\n      <td>238.00</td>\n      <td>570.000</td>\n      <td>9.000</td>\n      <td>9.000</td>\n      <td>9.00</td>\n      <td>567.000</td>\n      <td>236.000</td>\n      <td>9.000</td>\n      <td>0.000</td>\n      <td>0.000000</td>\n      <td>0.000000</td>\n      <td>0.00</td>\n    </tr>\n    <tr>\n      <th>50%</th>\n      <td>129600.000</td>\n      <td>2.00</td>\n      <td>7.000</td>\n      <td>4.00</td>\n      <td>9.00</td>\n      <td>0.000000</td>\n      <td>5281.00</td>\n      <td>9051.000</td>\n      <td>625.500</td>\n      <td>551.500</td>\n      <td>851.00</td>\n      <td>6255.500</td>\n      <td>3417.000</td>\n      <td>412.000</td>\n      <td>3.000</td>\n      <td>101.000000</td>\n      <td>19.000000</td>\n      <td>123.50</td>\n    </tr>\n    <tr>\n      <th>max</th>\n      <td>139441.000</td>\n      <td>3.00</td>\n      <td>12.000</td>\n      <td>7.00</td>\n      <td>23.00</td>\n      <td>1.000000</td>\n      <td>180480.00</td>\n      <td>1110282.000</td>\n      <td>11452.000</td>\n      <td>11328.000</td>\n      <td>19779.00</td>\n      <td>1107833.000</td>\n      <td>51456.000</td>\n      <td>4376.000</td>\n      <td>372.000</td>\n      <td>5172.000000</td>\n      <td>790.000000</td>\n      <td>6334.00</td>\n    </tr>\n  </tbody>\n</table>\n</div>"
          },
          "metadata": {}
        }
      ]
    },
    {
      "metadata": {
        "trusted": true,
        "_uuid": "cea9be03a45e5eb0b80949aa42f6c65e892a846f"
      },
      "cell_type": "code",
      "source": "#moda, найдем моду \ndf.mode().head(1)",
      "execution_count": 50,
      "outputs": [
        {
          "output_type": "execute_result",
          "execution_count": 50,
          "data": {
            "text/plain": "   Page total likes   Type         ...          share  Total Interactions\n0          136393.0  Photo         ...           13.0                 0.0\n\n[1 rows x 19 columns]",
            "text/html": "<div>\n<style scoped>\n    .dataframe tbody tr th:only-of-type {\n        vertical-align: middle;\n    }\n\n    .dataframe tbody tr th {\n        vertical-align: top;\n    }\n\n    .dataframe thead th {\n        text-align: right;\n    }\n</style>\n<table border=\"1\" class=\"dataframe\">\n  <thead>\n    <tr style=\"text-align: right;\">\n      <th></th>\n      <th>Page total likes</th>\n      <th>Type</th>\n      <th>Category</th>\n      <th>Post Month</th>\n      <th>Post Weekday</th>\n      <th>Post Hour</th>\n      <th>Paid</th>\n      <th>Lifetime Post Total Reach</th>\n      <th>Lifetime Post Total Impressions</th>\n      <th>Lifetime Engaged Users</th>\n      <th>Lifetime Post Consumers</th>\n      <th>Lifetime Post Consumptions</th>\n      <th>Lifetime Post Impressions by people who have liked your Page</th>\n      <th>Lifetime Post reach by people who like your Page</th>\n      <th>Lifetime People who have liked your Page and engaged with your post</th>\n      <th>comment</th>\n      <th>like</th>\n      <th>share</th>\n      <th>Total Interactions</th>\n    </tr>\n  </thead>\n  <tbody>\n    <tr>\n      <th>0</th>\n      <td>136393.0</td>\n      <td>Photo</td>\n      <td>1.0</td>\n      <td>10.0</td>\n      <td>7.0</td>\n      <td>3.0</td>\n      <td>0.0</td>\n      <td>677.0</td>\n      <td>4372.0</td>\n      <td>537.0</td>\n      <td>182.0</td>\n      <td>431.0</td>\n      <td>1210.0</td>\n      <td>690</td>\n      <td>403.0</td>\n      <td>0.0</td>\n      <td>98.0</td>\n      <td>13.0</td>\n      <td>0.0</td>\n    </tr>\n  </tbody>\n</table>\n</div>"
          },
          "metadata": {}
        }
      ]
    },
    {
      "metadata": {
        "trusted": true,
        "_uuid": "2c2a5f976225cc2813007e415d132be8705fc99f"
      },
      "cell_type": "code",
      "source": "#определим какие типы бывают в данных\ndf.Type.value_counts()",
      "execution_count": 47,
      "outputs": [
        {
          "output_type": "execute_result",
          "execution_count": 47,
          "data": {
            "text/plain": "Photo     426\nStatus     45\nLink       22\nVideo       7\nName: Type, dtype: int64"
          },
          "metadata": {}
        }
      ]
    },
    {
      "metadata": {
        "trusted": true,
        "_uuid": "86aceced53784b68cd1439074f50c7c7e61428f1"
      },
      "cell_type": "code",
      "source": "#distribute data by type\ndf_photo = df[df['Type'] == 'Photo']\ndf_status = df[df['Type'] == 'Status']\ndf_link = df[df['Type'] == 'Link']\ndf_video = df[df['Type'] == 'Video']",
      "execution_count": 48,
      "outputs": []
    },
    {
      "metadata": {
        "trusted": true,
        "_uuid": "6b94f94acfbd5226debc769209a9c7795cdf1228"
      },
      "cell_type": "code",
      "source": "#Type = photo\n#аналогичено для каждого типа выводим среднее значение, минимальное, медиана = 50%, максимальное\ndf_photo1=df_photo.describe()\ndf_photo1 = df_photo1.drop(['count', 'std', '25%', '75%'], axis = 0)\ndf_photo1",
      "execution_count": 53,
      "outputs": [
        {
          "output_type": "execute_result",
          "execution_count": 53,
          "data": {
            "text/plain": "      Page total likes         ...          Total Interactions\nmean     122354.171362         ...                  216.579812\nmin       81370.000000         ...                    0.000000\n50%      128032.000000         ...                  122.000000\nmax      139441.000000         ...                 6334.000000\n\n[4 rows x 18 columns]",
            "text/html": "<div>\n<style scoped>\n    .dataframe tbody tr th:only-of-type {\n        vertical-align: middle;\n    }\n\n    .dataframe tbody tr th {\n        vertical-align: top;\n    }\n\n    .dataframe thead th {\n        text-align: right;\n    }\n</style>\n<table border=\"1\" class=\"dataframe\">\n  <thead>\n    <tr style=\"text-align: right;\">\n      <th></th>\n      <th>Page total likes</th>\n      <th>Category</th>\n      <th>Post Month</th>\n      <th>Post Weekday</th>\n      <th>Post Hour</th>\n      <th>Paid</th>\n      <th>Lifetime Post Total Reach</th>\n      <th>Lifetime Post Total Impressions</th>\n      <th>Lifetime Engaged Users</th>\n      <th>Lifetime Post Consumers</th>\n      <th>Lifetime Post Consumptions</th>\n      <th>Lifetime Post Impressions by people who have liked your Page</th>\n      <th>Lifetime Post reach by people who like your Page</th>\n      <th>Lifetime People who have liked your Page and engaged with your post</th>\n      <th>comment</th>\n      <th>like</th>\n      <th>share</th>\n      <th>Total Interactions</th>\n    </tr>\n  </thead>\n  <tbody>\n    <tr>\n      <th>mean</th>\n      <td>122354.171362</td>\n      <td>1.91784</td>\n      <td>6.805164</td>\n      <td>4.107981</td>\n      <td>7.997653</td>\n      <td>0.28</td>\n      <td>13137.814554</td>\n      <td>2.899450e+04</td>\n      <td>818.946009</td>\n      <td>690.431925</td>\n      <td>1299.025822</td>\n      <td>1.642248e+04</td>\n      <td>6059.103286</td>\n      <td>507.305164</td>\n      <td>7.492958</td>\n      <td>182.611765</td>\n      <td>27.158768</td>\n      <td>216.579812</td>\n    </tr>\n    <tr>\n      <th>min</th>\n      <td>81370.000000</td>\n      <td>1.00000</td>\n      <td>1.000000</td>\n      <td>1.000000</td>\n      <td>1.000000</td>\n      <td>0.00</td>\n      <td>238.000000</td>\n      <td>5.700000e+02</td>\n      <td>9.000000</td>\n      <td>9.000000</td>\n      <td>9.000000</td>\n      <td>5.670000e+02</td>\n      <td>236.000000</td>\n      <td>9.000000</td>\n      <td>0.000000</td>\n      <td>0.000000</td>\n      <td>0.000000</td>\n      <td>0.000000</td>\n    </tr>\n    <tr>\n      <th>50%</th>\n      <td>128032.000000</td>\n      <td>2.00000</td>\n      <td>7.000000</td>\n      <td>4.000000</td>\n      <td>9.000000</td>\n      <td>0.00</td>\n      <td>4675.000000</td>\n      <td>8.118500e+03</td>\n      <td>605.500000</td>\n      <td>528.500000</td>\n      <td>827.000000</td>\n      <td>5.498000e+03</td>\n      <td>3110.000000</td>\n      <td>403.000000</td>\n      <td>3.000000</td>\n      <td>100.000000</td>\n      <td>19.000000</td>\n      <td>122.000000</td>\n    </tr>\n    <tr>\n      <th>max</th>\n      <td>139441.000000</td>\n      <td>3.00000</td>\n      <td>12.000000</td>\n      <td>7.000000</td>\n      <td>23.000000</td>\n      <td>1.00</td>\n      <td>180480.000000</td>\n      <td>1.110282e+06</td>\n      <td>11452.000000</td>\n      <td>11328.000000</td>\n      <td>19779.000000</td>\n      <td>1.107833e+06</td>\n      <td>51456.000000</td>\n      <td>3430.000000</td>\n      <td>372.000000</td>\n      <td>5172.000000</td>\n      <td>790.000000</td>\n      <td>6334.000000</td>\n    </tr>\n  </tbody>\n</table>\n</div>"
          },
          "metadata": {}
        }
      ]
    },
    {
      "metadata": {
        "trusted": true,
        "_uuid": "6ab33e7ae20dcb089d391275af473713224d7a0f"
      },
      "cell_type": "code",
      "source": "#мода для Photo\ndf_photo.mode().head(1)",
      "execution_count": 54,
      "outputs": [
        {
          "output_type": "execute_result",
          "execution_count": 54,
          "data": {
            "text/plain": "   Page total likes   Type         ...          share  Total Interactions\n0          124940.0  Photo         ...           14.0                 0.0\n\n[1 rows x 19 columns]",
            "text/html": "<div>\n<style scoped>\n    .dataframe tbody tr th:only-of-type {\n        vertical-align: middle;\n    }\n\n    .dataframe tbody tr th {\n        vertical-align: top;\n    }\n\n    .dataframe thead th {\n        text-align: right;\n    }\n</style>\n<table border=\"1\" class=\"dataframe\">\n  <thead>\n    <tr style=\"text-align: right;\">\n      <th></th>\n      <th>Page total likes</th>\n      <th>Type</th>\n      <th>Category</th>\n      <th>Post Month</th>\n      <th>Post Weekday</th>\n      <th>Post Hour</th>\n      <th>Paid</th>\n      <th>Lifetime Post Total Reach</th>\n      <th>Lifetime Post Total Impressions</th>\n      <th>Lifetime Engaged Users</th>\n      <th>Lifetime Post Consumers</th>\n      <th>Lifetime Post Consumptions</th>\n      <th>Lifetime Post Impressions by people who have liked your Page</th>\n      <th>Lifetime Post reach by people who like your Page</th>\n      <th>Lifetime People who have liked your Page and engaged with your post</th>\n      <th>comment</th>\n      <th>like</th>\n      <th>share</th>\n      <th>Total Interactions</th>\n    </tr>\n  </thead>\n  <tbody>\n    <tr>\n      <th>0</th>\n      <td>124940.0</td>\n      <td>Photo</td>\n      <td>1.0</td>\n      <td>10.0</td>\n      <td>7.0</td>\n      <td>3.0</td>\n      <td>0.0</td>\n      <td>677.0</td>\n      <td>4372.0</td>\n      <td>537.0</td>\n      <td>298.0</td>\n      <td>431.0</td>\n      <td>1210.0</td>\n      <td>690</td>\n      <td>403.0</td>\n      <td>0.0</td>\n      <td>7.0</td>\n      <td>14.0</td>\n      <td>0.0</td>\n    </tr>\n  </tbody>\n</table>\n</div>"
          },
          "metadata": {}
        }
      ]
    },
    {
      "metadata": {
        "trusted": true,
        "_uuid": "4a509162fcb6261bc631e387196300a59948467a"
      },
      "cell_type": "code",
      "source": "#Type = status\ndf_status.describe().drop(['count', 'std', '25%', '75%'], axis = 0)",
      "execution_count": 55,
      "outputs": [
        {
          "output_type": "execute_result",
          "execution_count": 55,
          "data": {
            "text/plain": "      Page total likes         ...          Total Interactions\nmean     132647.044444         ...                  217.044444\nmin      104070.000000         ...                   17.000000\n50%      135713.000000         ...                  186.000000\nmax      139441.000000         ...                 1009.000000\n\n[4 rows x 18 columns]",
            "text/html": "<div>\n<style scoped>\n    .dataframe tbody tr th:only-of-type {\n        vertical-align: middle;\n    }\n\n    .dataframe tbody tr th {\n        vertical-align: top;\n    }\n\n    .dataframe thead th {\n        text-align: right;\n    }\n</style>\n<table border=\"1\" class=\"dataframe\">\n  <thead>\n    <tr style=\"text-align: right;\">\n      <th></th>\n      <th>Page total likes</th>\n      <th>Category</th>\n      <th>Post Month</th>\n      <th>Post Weekday</th>\n      <th>Post Hour</th>\n      <th>Paid</th>\n      <th>Lifetime Post Total Reach</th>\n      <th>Lifetime Post Total Impressions</th>\n      <th>Lifetime Engaged Users</th>\n      <th>Lifetime Post Consumers</th>\n      <th>Lifetime Post Consumptions</th>\n      <th>Lifetime Post Impressions by people who have liked your Page</th>\n      <th>Lifetime Post reach by people who like your Page</th>\n      <th>Lifetime People who have liked your Page and engaged with your post</th>\n      <th>comment</th>\n      <th>like</th>\n      <th>share</th>\n      <th>Total Interactions</th>\n    </tr>\n  </thead>\n  <tbody>\n    <tr>\n      <th>mean</th>\n      <td>132647.044444</td>\n      <td>2.022222</td>\n      <td>9.066667</td>\n      <td>4.577778</td>\n      <td>7.244444</td>\n      <td>0.222222</td>\n      <td>13078.888889</td>\n      <td>24244.466667</td>\n      <td>2040.222222</td>\n      <td>1949.555556</td>\n      <td>2838.866667</td>\n      <td>18664.266667</td>\n      <td>9908.577778</td>\n      <td>1719.844444</td>\n      <td>8.911111</td>\n      <td>176.711111</td>\n      <td>31.422222</td>\n      <td>217.044444</td>\n    </tr>\n    <tr>\n      <th>min</th>\n      <td>104070.000000</td>\n      <td>1.000000</td>\n      <td>3.000000</td>\n      <td>1.000000</td>\n      <td>2.000000</td>\n      <td>0.000000</td>\n      <td>3930.000000</td>\n      <td>7509.000000</td>\n      <td>128.000000</td>\n      <td>86.000000</td>\n      <td>112.000000</td>\n      <td>5009.000000</td>\n      <td>2410.000000</td>\n      <td>101.000000</td>\n      <td>0.000000</td>\n      <td>13.000000</td>\n      <td>1.000000</td>\n      <td>17.000000</td>\n    </tr>\n    <tr>\n      <th>50%</th>\n      <td>135713.000000</td>\n      <td>2.000000</td>\n      <td>10.000000</td>\n      <td>5.000000</td>\n      <td>9.000000</td>\n      <td>0.000000</td>\n      <td>11096.000000</td>\n      <td>20849.000000</td>\n      <td>1701.000000</td>\n      <td>1599.000000</td>\n      <td>2201.000000</td>\n      <td>17502.000000</td>\n      <td>8980.000000</td>\n      <td>1604.000000</td>\n      <td>4.000000</td>\n      <td>150.000000</td>\n      <td>28.000000</td>\n      <td>186.000000</td>\n    </tr>\n    <tr>\n      <th>max</th>\n      <td>139441.000000</td>\n      <td>3.000000</td>\n      <td>12.000000</td>\n      <td>7.000000</td>\n      <td>15.000000</td>\n      <td>1.000000</td>\n      <td>31136.000000</td>\n      <td>59964.000000</td>\n      <td>6164.000000</td>\n      <td>5934.000000</td>\n      <td>9237.000000</td>\n      <td>37849.000000</td>\n      <td>21352.000000</td>\n      <td>4376.000000</td>\n      <td>60.000000</td>\n      <td>859.000000</td>\n      <td>123.000000</td>\n      <td>1009.000000</td>\n    </tr>\n  </tbody>\n</table>\n</div>"
          },
          "metadata": {}
        }
      ]
    },
    {
      "metadata": {
        "trusted": true,
        "_uuid": "ed4732b98173072fb2b5d662cb14dacd511818d2"
      },
      "cell_type": "code",
      "source": "#мода для Status\ndf_status.mode().head(1)",
      "execution_count": 56,
      "outputs": [
        {
          "output_type": "execute_result",
          "execution_count": 56,
          "data": {
            "text/plain": "   Page total likes    Type         ...          share  Total Interactions\n0          139441.0  Status         ...            1.0               117.0\n\n[1 rows x 19 columns]",
            "text/html": "<div>\n<style scoped>\n    .dataframe tbody tr th:only-of-type {\n        vertical-align: middle;\n    }\n\n    .dataframe tbody tr th {\n        vertical-align: top;\n    }\n\n    .dataframe thead th {\n        text-align: right;\n    }\n</style>\n<table border=\"1\" class=\"dataframe\">\n  <thead>\n    <tr style=\"text-align: right;\">\n      <th></th>\n      <th>Page total likes</th>\n      <th>Type</th>\n      <th>Category</th>\n      <th>Post Month</th>\n      <th>Post Weekday</th>\n      <th>Post Hour</th>\n      <th>Paid</th>\n      <th>Lifetime Post Total Reach</th>\n      <th>Lifetime Post Total Impressions</th>\n      <th>Lifetime Engaged Users</th>\n      <th>Lifetime Post Consumers</th>\n      <th>Lifetime Post Consumptions</th>\n      <th>Lifetime Post Impressions by people who have liked your Page</th>\n      <th>Lifetime Post reach by people who like your Page</th>\n      <th>Lifetime People who have liked your Page and engaged with your post</th>\n      <th>comment</th>\n      <th>like</th>\n      <th>share</th>\n      <th>Total Interactions</th>\n    </tr>\n  </thead>\n  <tbody>\n    <tr>\n      <th>0</th>\n      <td>139441.0</td>\n      <td>Status</td>\n      <td>2.0</td>\n      <td>12.0</td>\n      <td>5.0</td>\n      <td>10.0</td>\n      <td>0.0</td>\n      <td>3930</td>\n      <td>7509</td>\n      <td>128</td>\n      <td>86</td>\n      <td>1692.0</td>\n      <td>5009</td>\n      <td>2410</td>\n      <td>101</td>\n      <td>2.0</td>\n      <td>86.0</td>\n      <td>1.0</td>\n      <td>117.0</td>\n    </tr>\n  </tbody>\n</table>\n</div>"
          },
          "metadata": {}
        }
      ]
    },
    {
      "metadata": {
        "trusted": true,
        "_uuid": "9c2f9fe25ce66acb71a6f4e01ebdd44eb3f57a49"
      },
      "cell_type": "code",
      "source": "#Type = link\ndf_link.describe().drop(['count', 'std', '25%', '75%'], axis = 0)",
      "execution_count": 57,
      "outputs": [
        {
          "output_type": "execute_result",
          "execution_count": 57,
          "data": {
            "text/plain": "      Page total likes         ...          Total Interactions\nmean     116363.181818         ...                   89.045455\nmin       85979.000000         ...                    6.000000\n50%      115396.000000         ...                   52.500000\nmax      138895.000000         ...                  420.000000\n\n[4 rows x 18 columns]",
            "text/html": "<div>\n<style scoped>\n    .dataframe tbody tr th:only-of-type {\n        vertical-align: middle;\n    }\n\n    .dataframe tbody tr th {\n        vertical-align: top;\n    }\n\n    .dataframe thead th {\n        text-align: right;\n    }\n</style>\n<table border=\"1\" class=\"dataframe\">\n  <thead>\n    <tr style=\"text-align: right;\">\n      <th></th>\n      <th>Page total likes</th>\n      <th>Category</th>\n      <th>Post Month</th>\n      <th>Post Weekday</th>\n      <th>Post Hour</th>\n      <th>Paid</th>\n      <th>Lifetime Post Total Reach</th>\n      <th>Lifetime Post Total Impressions</th>\n      <th>Lifetime Engaged Users</th>\n      <th>Lifetime Post Consumers</th>\n      <th>Lifetime Post Consumptions</th>\n      <th>Lifetime Post Impressions by people who have liked your Page</th>\n      <th>Lifetime Post reach by people who like your Page</th>\n      <th>Lifetime People who have liked your Page and engaged with your post</th>\n      <th>comment</th>\n      <th>like</th>\n      <th>share</th>\n      <th>Total Interactions</th>\n    </tr>\n  </thead>\n  <tbody>\n    <tr>\n      <th>mean</th>\n      <td>116363.181818</td>\n      <td>1.136364</td>\n      <td>6.590909</td>\n      <td>4.272727</td>\n      <td>5.727273</td>\n      <td>0.272727</td>\n      <td>18544.590909</td>\n      <td>28725.454545</td>\n      <td>342.818182</td>\n      <td>292.681818</td>\n      <td>374.090909</td>\n      <td>11148.590909</td>\n      <td>6544.363636</td>\n      <td>210.545455</td>\n      <td>2.818182</td>\n      <td>73.318182</td>\n      <td>12.909091</td>\n      <td>89.045455</td>\n    </tr>\n    <tr>\n      <th>min</th>\n      <td>85979.000000</td>\n      <td>1.000000</td>\n      <td>1.000000</td>\n      <td>1.000000</td>\n      <td>2.000000</td>\n      <td>0.000000</td>\n      <td>1536.000000</td>\n      <td>3094.000000</td>\n      <td>24.000000</td>\n      <td>23.000000</td>\n      <td>26.000000</td>\n      <td>2307.000000</td>\n      <td>1180.000000</td>\n      <td>19.000000</td>\n      <td>0.000000</td>\n      <td>5.000000</td>\n      <td>0.000000</td>\n      <td>6.000000</td>\n    </tr>\n    <tr>\n      <th>50%</th>\n      <td>115396.000000</td>\n      <td>1.000000</td>\n      <td>4.500000</td>\n      <td>4.500000</td>\n      <td>4.000000</td>\n      <td>0.000000</td>\n      <td>7422.000000</td>\n      <td>9773.000000</td>\n      <td>244.000000</td>\n      <td>205.000000</td>\n      <td>290.000000</td>\n      <td>9034.500000</td>\n      <td>5039.000000</td>\n      <td>161.500000</td>\n      <td>1.500000</td>\n      <td>37.000000</td>\n      <td>10.500000</td>\n      <td>52.500000</td>\n    </tr>\n    <tr>\n      <th>max</th>\n      <td>138895.000000</td>\n      <td>3.000000</td>\n      <td>12.000000</td>\n      <td>7.000000</td>\n      <td>14.000000</td>\n      <td>1.000000</td>\n      <td>70912.000000</td>\n      <td>229733.000000</td>\n      <td>1374.000000</td>\n      <td>1106.000000</td>\n      <td>1345.000000</td>\n      <td>42338.000000</td>\n      <td>27232.000000</td>\n      <td>788.000000</td>\n      <td>15.000000</td>\n      <td>379.000000</td>\n      <td>44.000000</td>\n      <td>420.000000</td>\n    </tr>\n  </tbody>\n</table>\n</div>"
          },
          "metadata": {}
        }
      ]
    },
    {
      "metadata": {
        "trusted": true,
        "_uuid": "b6ed6c539a4dc938f50b545bef65b02604bc049c"
      },
      "cell_type": "code",
      "source": "#мода для Link\ndf_link.mode().head(1)",
      "execution_count": 58,
      "outputs": [
        {
          "output_type": "execute_result",
          "execution_count": 58,
          "data": {
            "text/plain": "   Page total likes  Type         ...          share  Total Interactions\n0          138353.0  Link         ...            2.0                14.0\n\n[1 rows x 19 columns]",
            "text/html": "<div>\n<style scoped>\n    .dataframe tbody tr th:only-of-type {\n        vertical-align: middle;\n    }\n\n    .dataframe tbody tr th {\n        vertical-align: top;\n    }\n\n    .dataframe thead th {\n        text-align: right;\n    }\n</style>\n<table border=\"1\" class=\"dataframe\">\n  <thead>\n    <tr style=\"text-align: right;\">\n      <th></th>\n      <th>Page total likes</th>\n      <th>Type</th>\n      <th>Category</th>\n      <th>Post Month</th>\n      <th>Post Weekday</th>\n      <th>Post Hour</th>\n      <th>Paid</th>\n      <th>Lifetime Post Total Reach</th>\n      <th>Lifetime Post Total Impressions</th>\n      <th>Lifetime Engaged Users</th>\n      <th>Lifetime Post Consumers</th>\n      <th>Lifetime Post Consumptions</th>\n      <th>Lifetime Post Impressions by people who have liked your Page</th>\n      <th>Lifetime Post reach by people who like your Page</th>\n      <th>Lifetime People who have liked your Page and engaged with your post</th>\n      <th>comment</th>\n      <th>like</th>\n      <th>share</th>\n      <th>Total Interactions</th>\n    </tr>\n  </thead>\n  <tbody>\n    <tr>\n      <th>0</th>\n      <td>138353.0</td>\n      <td>Link</td>\n      <td>1.0</td>\n      <td>12.0</td>\n      <td>6.0</td>\n      <td>3.0</td>\n      <td>0.0</td>\n      <td>1536</td>\n      <td>3094</td>\n      <td>66.0</td>\n      <td>322.0</td>\n      <td>26</td>\n      <td>2307</td>\n      <td>1180</td>\n      <td>19</td>\n      <td>0.0</td>\n      <td>12.0</td>\n      <td>2.0</td>\n      <td>14.0</td>\n    </tr>\n  </tbody>\n</table>\n</div>"
          },
          "metadata": {}
        }
      ]
    },
    {
      "metadata": {
        "trusted": true,
        "_uuid": "ac38a20a180f57c784a92f5d358623164c173a21"
      },
      "cell_type": "code",
      "source": "#Type = Video\ndf_video.describe().drop(['count', 'std', '25%', '75%'], axis = 0)",
      "execution_count": 59,
      "outputs": [
        {
          "output_type": "execute_result",
          "execution_count": 59,
          "data": {
            "text/plain": "      Page total likes         ...          Total Interactions\nmean     135014.857143         ...                  295.857143\nmin      126424.000000         ...                   81.000000\n50%      137893.000000         ...                  271.000000\nmax      138895.000000         ...                  550.000000\n\n[4 rows x 18 columns]",
            "text/html": "<div>\n<style scoped>\n    .dataframe tbody tr th:only-of-type {\n        vertical-align: middle;\n    }\n\n    .dataframe tbody tr th {\n        vertical-align: top;\n    }\n\n    .dataframe thead th {\n        text-align: right;\n    }\n</style>\n<table border=\"1\" class=\"dataframe\">\n  <thead>\n    <tr style=\"text-align: right;\">\n      <th></th>\n      <th>Page total likes</th>\n      <th>Category</th>\n      <th>Post Month</th>\n      <th>Post Weekday</th>\n      <th>Post Hour</th>\n      <th>Paid</th>\n      <th>Lifetime Post Total Reach</th>\n      <th>Lifetime Post Total Impressions</th>\n      <th>Lifetime Engaged Users</th>\n      <th>Lifetime Post Consumers</th>\n      <th>Lifetime Post Consumptions</th>\n      <th>Lifetime Post Impressions by people who have liked your Page</th>\n      <th>Lifetime Post reach by people who like your Page</th>\n      <th>Lifetime People who have liked your Page and engaged with your post</th>\n      <th>comment</th>\n      <th>like</th>\n      <th>share</th>\n      <th>Total Interactions</th>\n    </tr>\n  </thead>\n  <tbody>\n    <tr>\n      <th>mean</th>\n      <td>135014.857143</td>\n      <td>1.0</td>\n      <td>9.571429</td>\n      <td>3.571429</td>\n      <td>8.714286</td>\n      <td>0.571429</td>\n      <td>51205.714286</td>\n      <td>102622.428571</td>\n      <td>1707.0</td>\n      <td>1584.714286</td>\n      <td>2600.142857</td>\n      <td>43149.857143</td>\n      <td>17386.285714</td>\n      <td>979.428571</td>\n      <td>12.285714</td>\n      <td>231.428571</td>\n      <td>52.142857</td>\n      <td>295.857143</td>\n    </tr>\n    <tr>\n      <th>min</th>\n      <td>126424.000000</td>\n      <td>1.0</td>\n      <td>6.000000</td>\n      <td>2.000000</td>\n      <td>2.000000</td>\n      <td>0.000000</td>\n      <td>13544.000000</td>\n      <td>30235.000000</td>\n      <td>459.0</td>\n      <td>411.000000</td>\n      <td>539.000000</td>\n      <td>21436.000000</td>\n      <td>9568.000000</td>\n      <td>363.000000</td>\n      <td>2.000000</td>\n      <td>65.000000</td>\n      <td>13.000000</td>\n      <td>81.000000</td>\n    </tr>\n    <tr>\n      <th>50%</th>\n      <td>137893.000000</td>\n      <td>1.0</td>\n      <td>11.000000</td>\n      <td>3.000000</td>\n      <td>11.000000</td>\n      <td>1.000000</td>\n      <td>30624.000000</td>\n      <td>56950.000000</td>\n      <td>1779.0</td>\n      <td>1643.000000</td>\n      <td>2331.000000</td>\n      <td>30131.000000</td>\n      <td>14112.000000</td>\n      <td>885.000000</td>\n      <td>17.000000</td>\n      <td>204.000000</td>\n      <td>44.000000</td>\n      <td>271.000000</td>\n    </tr>\n    <tr>\n      <th>max</th>\n      <td>138895.000000</td>\n      <td>1.0</td>\n      <td>12.000000</td>\n      <td>6.000000</td>\n      <td>13.000000</td>\n      <td>1.000000</td>\n      <td>139008.000000</td>\n      <td>277100.000000</td>\n      <td>3872.0</td>\n      <td>3822.000000</td>\n      <td>7327.000000</td>\n      <td>107502.000000</td>\n      <td>38720.000000</td>\n      <td>2218.000000</td>\n      <td>23.000000</td>\n      <td>449.000000</td>\n      <td>121.000000</td>\n      <td>550.000000</td>\n    </tr>\n  </tbody>\n</table>\n</div>"
          },
          "metadata": {}
        }
      ]
    },
    {
      "metadata": {
        "trusted": true,
        "_uuid": "2c252ecfd50da93f0e11396970a932eeaffd8183"
      },
      "cell_type": "code",
      "source": "#мода для Video\ndf_video.mode().head(1)",
      "execution_count": 85,
      "outputs": [
        {
          "output_type": "execute_result",
          "execution_count": 85,
          "data": {
            "text/plain": "   Page total likes   Type         ...          share  Total Interactions\n0          137893.0  Video         ...           13.0                  81\n\n[1 rows x 19 columns]",
            "text/html": "<div>\n<style scoped>\n    .dataframe tbody tr th:only-of-type {\n        vertical-align: middle;\n    }\n\n    .dataframe tbody tr th {\n        vertical-align: top;\n    }\n\n    .dataframe thead th {\n        text-align: right;\n    }\n</style>\n<table border=\"1\" class=\"dataframe\">\n  <thead>\n    <tr style=\"text-align: right;\">\n      <th></th>\n      <th>Page total likes</th>\n      <th>Type</th>\n      <th>Category</th>\n      <th>Post Month</th>\n      <th>Post Weekday</th>\n      <th>Post Hour</th>\n      <th>Paid</th>\n      <th>Lifetime Post Total Reach</th>\n      <th>Lifetime Post Total Impressions</th>\n      <th>Lifetime Engaged Users</th>\n      <th>Lifetime Post Consumers</th>\n      <th>Lifetime Post Consumptions</th>\n      <th>Lifetime Post Impressions by people who have liked your Page</th>\n      <th>Lifetime Post reach by people who like your Page</th>\n      <th>Lifetime People who have liked your Page and engaged with your post</th>\n      <th>comment</th>\n      <th>like</th>\n      <th>share</th>\n      <th>Total Interactions</th>\n    </tr>\n  </thead>\n  <tbody>\n    <tr>\n      <th>0</th>\n      <td>137893.0</td>\n      <td>Video</td>\n      <td>1.0</td>\n      <td>11.0</td>\n      <td>2.0</td>\n      <td>11.0</td>\n      <td>1.0</td>\n      <td>13544</td>\n      <td>30235</td>\n      <td>459</td>\n      <td>411</td>\n      <td>539</td>\n      <td>21436</td>\n      <td>9568</td>\n      <td>363</td>\n      <td>2.0</td>\n      <td>65.0</td>\n      <td>13.0</td>\n      <td>81</td>\n    </tr>\n  </tbody>\n</table>\n</div>"
          },
          "metadata": {}
        }
      ]
    },
    {
      "metadata": {
        "trusted": true,
        "_uuid": "a578ca03bb812d9c80476bb4eee8d027ba90bee5"
      },
      "cell_type": "code",
      "source": "#определим самый популярный объект\n# Отсортируем все объекты по убыванию в порядке значимости критерия популярности\n    #1. лайки\n    #2. Количество комментариев\n    #3. Количество взаимодействий с объектом\n    # посмотрим на отсортированные данные, для того чтобы определить нужно ли проводить отбор по другим критерием\n    # объект с индексом 244 (photo) является самым популярным, из-за наибольшего количества лайков (максимальное количество по всем объектам), \n    #комментариев (тоже максимальное количество по всем объектам), и просто взаимодействий с ним.\ndf1 = df.sort_values(['like','comment', 'Total Interactions'],ascending = False)\n#Самый популярный объект\ndf1.head(1)",
      "execution_count": 83,
      "outputs": [
        {
          "output_type": "execute_result",
          "execution_count": 83,
          "data": {
            "text/plain": "     Page total likes   Type         ...          share  Total Interactions\n244            130791  Photo         ...          790.0                6334\n\n[1 rows x 19 columns]",
            "text/html": "<div>\n<style scoped>\n    .dataframe tbody tr th:only-of-type {\n        vertical-align: middle;\n    }\n\n    .dataframe tbody tr th {\n        vertical-align: top;\n    }\n\n    .dataframe thead th {\n        text-align: right;\n    }\n</style>\n<table border=\"1\" class=\"dataframe\">\n  <thead>\n    <tr style=\"text-align: right;\">\n      <th></th>\n      <th>Page total likes</th>\n      <th>Type</th>\n      <th>Category</th>\n      <th>Post Month</th>\n      <th>Post Weekday</th>\n      <th>Post Hour</th>\n      <th>Paid</th>\n      <th>Lifetime Post Total Reach</th>\n      <th>Lifetime Post Total Impressions</th>\n      <th>Lifetime Engaged Users</th>\n      <th>Lifetime Post Consumers</th>\n      <th>Lifetime Post Consumptions</th>\n      <th>Lifetime Post Impressions by people who have liked your Page</th>\n      <th>Lifetime Post reach by people who like your Page</th>\n      <th>Lifetime People who have liked your Page and engaged with your post</th>\n      <th>comment</th>\n      <th>like</th>\n      <th>share</th>\n      <th>Total Interactions</th>\n    </tr>\n  </thead>\n  <tbody>\n    <tr>\n      <th>244</th>\n      <td>130791</td>\n      <td>Photo</td>\n      <td>2</td>\n      <td>7</td>\n      <td>3</td>\n      <td>5</td>\n      <td>1.0</td>\n      <td>180480</td>\n      <td>319133</td>\n      <td>8072</td>\n      <td>4010</td>\n      <td>6242</td>\n      <td>108752</td>\n      <td>51456</td>\n      <td>3316</td>\n      <td>372</td>\n      <td>5172.0</td>\n      <td>790.0</td>\n      <td>6334</td>\n    </tr>\n  </tbody>\n</table>\n</div>"
          },
          "metadata": {}
        }
      ]
    },
    {
      "metadata": {
        "trusted": true,
        "_uuid": "3c8fd2df4c3656b884442d9fbe2d4f0817ce2beb"
      },
      "cell_type": "code",
      "source": "",
      "execution_count": null,
      "outputs": []
    }
  ],
  "metadata": {
    "kernelspec": {
      "display_name": "Python 3",
      "language": "python",
      "name": "python3"
    },
    "language_info": {
      "name": "python",
      "version": "3.6.6",
      "mimetype": "text/x-python",
      "codemirror_mode": {
        "name": "ipython",
        "version": 3
      },
      "pygments_lexer": "ipython3",
      "nbconvert_exporter": "python",
      "file_extension": ".py"
    }
  },
  "nbformat": 4,
  "nbformat_minor": 1
}